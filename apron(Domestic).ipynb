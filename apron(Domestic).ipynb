{
 "cells": [
  {
   "cell_type": "code",
   "execution_count": 2,
   "id": "32620b59",
   "metadata": {},
   "outputs": [],
   "source": [
    "import numpy as np\n",
    "import gurobipy as gp\n",
    "from gurobipy import GRB"
   ]
  },
  {
   "cell_type": "code",
   "execution_count": 3,
   "id": "0d6733fe",
   "metadata": {},
   "outputs": [],
   "source": [
    "gate = np.load('gate_8.npy', allow_pickle=True).item()\n",
    "flight = np.load('flight_20.npy', allow_pickle=True).item()"
   ]
  },
  {
   "cell_type": "code",
   "execution_count": 4,
   "id": "25949f49",
   "metadata": {},
   "outputs": [
    {
     "data": {
      "text/plain": [
       "{'gate_type': ['Domestic',\n",
       "  'Domestic',\n",
       "  'Domestic',\n",
       "  'Domestic',\n",
       "  'International',\n",
       "  'International',\n",
       "  'International',\n",
       "  'International',\n",
       "  'Apron'],\n",
       " 'distance_gate_entrance': array([ 9.,  7.,  5.,  3.,  3.,  5.,  7.,  9., 33.]),\n",
       " 'distance_between_gate': array([[ 0.,  2.,  4.,  6.,  8., 10., 12., 14., 30.],\n",
       "        [ 2.,  0.,  2.,  4.,  6.,  8., 10., 12., 30.],\n",
       "        [ 4.,  2.,  0.,  2.,  4.,  6.,  8., 10., 30.],\n",
       "        [ 6.,  4.,  2.,  0.,  2.,  4.,  6.,  8., 30.],\n",
       "        [ 8.,  6.,  4.,  2.,  0.,  2.,  4.,  6., 30.],\n",
       "        [10.,  8.,  6.,  4.,  2.,  0.,  2.,  4., 30.],\n",
       "        [12., 10.,  8.,  6.,  4.,  2.,  0.,  2., 30.],\n",
       "        [14., 12., 10.,  8.,  6.,  4.,  2.,  0., 30.],\n",
       "        [30., 30., 30., 30., 30., 30., 30., 30.,  0.]])}"
      ]
     },
     "execution_count": 4,
     "metadata": {},
     "output_type": "execute_result"
    }
   ],
   "source": [
    "gate"
   ]
  },
  {
   "cell_type": "code",
   "execution_count": 5,
   "id": "4eba6490",
   "metadata": {},
   "outputs": [
    {
     "data": {
      "text/plain": [
       "{'flight_type': ['International',\n",
       "  'International',\n",
       "  'International',\n",
       "  'International',\n",
       "  'Domestic',\n",
       "  'Domestic',\n",
       "  'Domestic',\n",
       "  'Domestic',\n",
       "  'Domestic',\n",
       "  'Domestic',\n",
       "  'International',\n",
       "  'Domestic',\n",
       "  'Domestic',\n",
       "  'International',\n",
       "  'International',\n",
       "  'International',\n",
       "  'Domestic',\n",
       "  'International',\n",
       "  'International',\n",
       "  'Domestic'],\n",
       " 'arrival_time': array([  8,  10,  12,  25,  59,  65, 201, 210, 213, 217, 224, 248, 303,\n",
       "        323, 329, 395, 406, 422, 429, 468]),\n",
       " 'departure_time': array([ 62,  77,  84,  82, 116, 120, 252, 286, 263, 286, 285, 307, 357,\n",
       "        373, 382, 445, 480, 488, 499, 530]),\n",
       " 'non_transfer_passengers': array([145, 132, 144, 126, 133, 101, 141, 131,  94, 138,  77, 131, 112,\n",
       "        140, 124, 120, 111,  85, 118,  85]),\n",
       " 'transfer_passengers': array([[0, 6, 6, 6, 0, 4, 6, 6, 0, 4, 4, 4, 5, 3, 0, 2, 3, 0, 5, 3],\n",
       "        [0, 0, 3, 2, 4, 3, 6, 0, 3, 1, 5, 5, 3, 2, 5, 2, 2, 1, 0, 1],\n",
       "        [0, 0, 0, 3, 5, 3, 6, 1, 6, 4, 2, 0, 2, 5, 0, 1, 5, 1, 5, 6],\n",
       "        [0, 0, 0, 0, 5, 5, 6, 2, 4, 3, 5, 0, 2, 1, 1, 6, 3, 4, 5, 6],\n",
       "        [0, 0, 0, 0, 0, 3, 1, 4, 4, 3, 6, 3, 4, 0, 6, 0, 3, 6, 5, 0],\n",
       "        [0, 0, 0, 0, 0, 0, 5, 5, 1, 4, 1, 3, 1, 1, 2, 6, 0, 1, 5, 5],\n",
       "        [0, 0, 0, 0, 0, 0, 0, 6, 6, 4, 2, 1, 2, 3, 5, 1, 5, 4, 5, 2],\n",
       "        [0, 0, 0, 0, 0, 0, 0, 0, 6, 1, 4, 5, 2, 0, 2, 6, 2, 1, 5, 6],\n",
       "        [0, 0, 0, 0, 0, 0, 0, 0, 0, 6, 1, 0, 2, 6, 3, 0, 5, 4, 4, 3],\n",
       "        [0, 0, 0, 0, 0, 0, 0, 0, 0, 0, 6, 5, 1, 5, 5, 5, 5, 0, 1, 4],\n",
       "        [0, 0, 0, 0, 0, 0, 0, 0, 0, 0, 0, 5, 6, 4, 2, 4, 6, 3, 6, 1],\n",
       "        [0, 0, 0, 0, 0, 0, 0, 0, 0, 0, 0, 0, 2, 1, 4, 6, 5, 3, 5, 5],\n",
       "        [0, 0, 0, 0, 0, 0, 0, 0, 0, 0, 0, 0, 0, 5, 2, 4, 6, 2, 3, 4],\n",
       "        [0, 0, 0, 0, 0, 0, 0, 0, 0, 0, 0, 0, 0, 0, 1, 3, 2, 0, 1, 0],\n",
       "        [0, 0, 0, 0, 0, 0, 0, 0, 0, 0, 0, 0, 0, 0, 0, 0, 4, 2, 5, 2],\n",
       "        [0, 0, 0, 0, 0, 0, 0, 0, 0, 0, 0, 0, 0, 0, 0, 0, 0, 4, 2, 1],\n",
       "        [0, 0, 0, 0, 0, 0, 0, 0, 0, 0, 0, 0, 0, 0, 0, 0, 0, 5, 6, 1],\n",
       "        [0, 0, 0, 0, 0, 0, 0, 0, 0, 0, 0, 0, 0, 0, 0, 0, 0, 0, 0, 6],\n",
       "        [0, 0, 0, 0, 0, 0, 0, 0, 0, 0, 0, 0, 0, 0, 0, 0, 0, 0, 0, 0],\n",
       "        [0, 0, 0, 0, 0, 0, 0, 0, 0, 0, 0, 0, 0, 0, 0, 0, 0, 0, 0, 0]])}"
      ]
     },
     "execution_count": 5,
     "metadata": {},
     "output_type": "execute_result"
    }
   ],
   "source": [
    "flight"
   ]
  },
  {
   "cell_type": "code",
   "execution_count": 6,
   "id": "3201b3f3",
   "metadata": {},
   "outputs": [],
   "source": [
    "gate_type = gate['gate_type']\n",
    "gateNum = len(gate_type) - 1\n",
    "flight_type = flight['flight_type']\n",
    "flightNum = len(flight_type)"
   ]
  },
  {
   "cell_type": "code",
   "execution_count": 7,
   "id": "bce8600a",
   "metadata": {},
   "outputs": [],
   "source": [
    "a_time = flight['arrival_time']\n",
    "d_time = flight['departure_time']"
   ]
  },
  {
   "cell_type": "code",
   "execution_count": 8,
   "id": "cb824c3e",
   "metadata": {},
   "outputs": [],
   "source": [
    "n_d = flight_type.count('Domestic')\n",
    "n_d_g = gate_type.count('Domestic')"
   ]
  },
  {
   "cell_type": "code",
   "execution_count": 9,
   "id": "1c0d0d2f",
   "metadata": {},
   "outputs": [],
   "source": [
    "nw_d = np.zeros([flightNum + 1,flightNum +2])"
   ]
  },
  {
   "cell_type": "code",
   "execution_count": 10,
   "id": "d5bbff9c",
   "metadata": {},
   "outputs": [],
   "source": [
    "for i in range(1,a_time.shape[0] + 1):\n",
    "    if flight_type[i-1] == 'Domestic':\n",
    "        nw_d[i][-1] =1\n",
    "    for j in range( i,a_time.shape[0] + 1):\n",
    "        if flight_type[j-1] == 'Domestic':\n",
    "            nw_d[0][j] = 1\n",
    "        if (a_time[j-1] > d_time[i-1]) and (flight_type [i-1] == 'Domestic') and (flight_type [j-1] == 'Domestic') :\n",
    "            nw_d[i][j] = 1\n",
    "            \n",
    "#[0][a_time.shape[0]] = 1\n",
    "#nw_d[-1][-1] = 1"
   ]
  },
  {
   "cell_type": "code",
   "execution_count": 11,
   "id": "c831811c",
   "metadata": {},
   "outputs": [
    {
     "data": {
      "text/plain": [
       "array([[0., 0., 0., 0., 0., 1., 1., 1., 1., 1., 1., 0., 1., 1., 0., 0.,\n",
       "        0., 1., 0., 0., 1., 0.],\n",
       "       [0., 0., 0., 0., 0., 0., 0., 0., 0., 0., 0., 0., 0., 0., 0., 0.,\n",
       "        0., 0., 0., 0., 0., 0.],\n",
       "       [0., 0., 0., 0., 0., 0., 0., 0., 0., 0., 0., 0., 0., 0., 0., 0.,\n",
       "        0., 0., 0., 0., 0., 0.],\n",
       "       [0., 0., 0., 0., 0., 0., 0., 0., 0., 0., 0., 0., 0., 0., 0., 0.,\n",
       "        0., 0., 0., 0., 0., 0.],\n",
       "       [0., 0., 0., 0., 0., 0., 0., 0., 0., 0., 0., 0., 0., 0., 0., 0.,\n",
       "        0., 0., 0., 0., 0., 0.],\n",
       "       [0., 0., 0., 0., 0., 0., 0., 1., 1., 1., 1., 0., 1., 1., 0., 0.,\n",
       "        0., 1., 0., 0., 1., 1.],\n",
       "       [0., 0., 0., 0., 0., 0., 0., 1., 1., 1., 1., 0., 1., 1., 0., 0.,\n",
       "        0., 1., 0., 0., 1., 1.],\n",
       "       [0., 0., 0., 0., 0., 0., 0., 0., 0., 0., 0., 0., 0., 1., 0., 0.,\n",
       "        0., 1., 0., 0., 1., 1.],\n",
       "       [0., 0., 0., 0., 0., 0., 0., 0., 0., 0., 0., 0., 0., 1., 0., 0.,\n",
       "        0., 1., 0., 0., 1., 1.],\n",
       "       [0., 0., 0., 0., 0., 0., 0., 0., 0., 0., 0., 0., 0., 1., 0., 0.,\n",
       "        0., 1., 0., 0., 1., 1.],\n",
       "       [0., 0., 0., 0., 0., 0., 0., 0., 0., 0., 0., 0., 0., 1., 0., 0.,\n",
       "        0., 1., 0., 0., 1., 1.],\n",
       "       [0., 0., 0., 0., 0., 0., 0., 0., 0., 0., 0., 0., 0., 0., 0., 0.,\n",
       "        0., 0., 0., 0., 0., 0.],\n",
       "       [0., 0., 0., 0., 0., 0., 0., 0., 0., 0., 0., 0., 0., 0., 0., 0.,\n",
       "        0., 1., 0., 0., 1., 1.],\n",
       "       [0., 0., 0., 0., 0., 0., 0., 0., 0., 0., 0., 0., 0., 0., 0., 0.,\n",
       "        0., 1., 0., 0., 1., 1.],\n",
       "       [0., 0., 0., 0., 0., 0., 0., 0., 0., 0., 0., 0., 0., 0., 0., 0.,\n",
       "        0., 0., 0., 0., 0., 0.],\n",
       "       [0., 0., 0., 0., 0., 0., 0., 0., 0., 0., 0., 0., 0., 0., 0., 0.,\n",
       "        0., 0., 0., 0., 0., 0.],\n",
       "       [0., 0., 0., 0., 0., 0., 0., 0., 0., 0., 0., 0., 0., 0., 0., 0.,\n",
       "        0., 0., 0., 0., 0., 0.],\n",
       "       [0., 0., 0., 0., 0., 0., 0., 0., 0., 0., 0., 0., 0., 0., 0., 0.,\n",
       "        0., 0., 0., 0., 0., 1.],\n",
       "       [0., 0., 0., 0., 0., 0., 0., 0., 0., 0., 0., 0., 0., 0., 0., 0.,\n",
       "        0., 0., 0., 0., 0., 0.],\n",
       "       [0., 0., 0., 0., 0., 0., 0., 0., 0., 0., 0., 0., 0., 0., 0., 0.,\n",
       "        0., 0., 0., 0., 0., 0.],\n",
       "       [0., 0., 0., 0., 0., 0., 0., 0., 0., 0., 0., 0., 0., 0., 0., 0.,\n",
       "        0., 0., 0., 0., 0., 1.]])"
      ]
     },
     "execution_count": 11,
     "metadata": {},
     "output_type": "execute_result"
    }
   ],
   "source": [
    "nw_d[:,:]"
   ]
  },
  {
   "cell_type": "code",
   "execution_count": 11,
   "id": "55114df2",
   "metadata": {},
   "outputs": [
    {
     "name": "stdout",
     "output_type": "stream",
     "text": [
      "Set parameter Username\n",
      "Academic license - for non-commercial use only - expires 2023-10-04\n",
      "Gurobi Optimizer version 9.5.2 build v9.5.2rc0 (win64)\n",
      "Thread count: 4 physical cores, 8 logical processors, using up to 8 threads\n",
      "Optimize a model with 524 rows, 462 columns and 2185 nonzeros\n",
      "Model fingerprint: 0xc5dddbe6\n",
      "Variable types: 0 continuous, 462 integer (462 binary)\n",
      "Coefficient statistics:\n",
      "  Matrix range     [1e+00, 1e+00]\n",
      "  Objective range  [1e+00, 1e+00]\n",
      "  Bounds range     [1e+00, 1e+00]\n",
      "  RHS range        [1e+00, 4e+00]\n",
      "Found heuristic solution: objective -0.0000000\n",
      "Presolve removed 500 rows and 410 columns\n",
      "Presolve time: 0.06s\n",
      "Presolved: 24 rows, 52 columns, 148 nonzeros\n",
      "Variable types: 0 continuous, 52 integer (52 binary)\n",
      "Found heuristic solution: objective 9.0000000\n",
      "\n",
      "Root relaxation: cutoff, 27 iterations, 0.01 seconds (0.00 work units)\n",
      "\n",
      "    Nodes    |    Current Node    |     Objective Bounds      |     Work\n",
      " Expl Unexpl |  Obj  Depth IntInf | Incumbent    BestBd   Gap | It/Node Time\n",
      "\n",
      "     0     0     cutoff    0         9.00000    9.00000  0.00%     -    0s\n",
      "\n",
      "Explored 1 nodes (27 simplex iterations) in 0.19 seconds (0.00 work units)\n",
      "Thread count was 8 (of 8 available processors)\n",
      "\n",
      "Solution count 2: 9 -0 \n",
      "\n",
      "Optimal solution found (tolerance 1.00e-04)\n",
      "Best objective 9.000000000000e+00, best bound 9.000000000000e+00, gap 0.0000%\n"
     ]
    }
   ],
   "source": [
    "M = flightNum\n",
    "m = gp.Model()\n",
    "z_d = m.addMVar(shape = (M + 1, M + 2),vtype='B' ,name = 'z_d')\n",
    "\n",
    "z_sum = np.sum([np.sum([z_d[i,j] for j in range(i+1, M+1)]) for i in range(M+1)])\n",
    "m.setObjective(z_sum,GRB.MAXIMIZE)\n",
    "\n",
    "for i in range(0,M + 1):\n",
    "    for j in range(0, M + 2):\n",
    "        m.addConstr(z_d[i,j] <= nw_d[i,j]) #Zij must be valid\n",
    "\n",
    "m.addConstr(z_d[0].sum() <= n_d_g)   \n",
    "m.addConstr(z_d[:,M+1].sum() <= n_d_g)\n",
    "    \n",
    "for i in range(1,M+1): \n",
    "    m.addConstr(z_d[:,i].sum() <= 1) #sum of each column <= 1\n",
    "for j in range(1,M+1): \n",
    "    m.addConstr(z_d[j,:].sum() <= 1) #sum of each row <= 1\n",
    "\n",
    "for i in range(1,M+1): \n",
    "    m.addConstr(z_d[:,i].sum() == z_d[i].sum())\n",
    "    \n",
    "m.optimize()"
   ]
  },
  {
   "cell_type": "code",
   "execution_count": 12,
   "id": "ce41bf3e",
   "metadata": {},
   "outputs": [
    {
     "name": "stdout",
     "output_type": "stream",
     "text": [
      "Total flights assigned to gates:9\n",
      "\n",
      "   0  1  2  3  4  5  6  7  8  9  10  11  12  13  14  15  16  17  18  19  20  21  \n",
      "0: 0  0  0  0  0  1  1  1  1  0  0  0  0  0  0  0  0  0  0  0  0  0  \n",
      "1: 0  0  0  0  0  0  0  0  0  0  0  0  0  0  0  0  0  0  0  0  0  0  \n",
      "2: 0  0  0  0  0  0  0  0  0  0  0  0  0  0  0  0  0  0  0  0  0  0  \n",
      "3: 0  0  0  0  0  0  0  0  0  0  0  0  0  0  0  0  0  0  0  0  0  0  \n",
      "4: 0  0  0  0  0  0  0  0  0  0  0  0  0  0  0  0  0  0  0  0  0  0  \n",
      "5: 0  0  0  0  0  0  0  0  0  1  0  0  0  0  0  0  0  0  0  0  0  0  \n",
      "6: 0  0  0  0  0  0  0  0  0  0  1  0  0  0  0  0  0  0  0  0  0  0  \n",
      "7: 0  0  0  0  0  0  0  0  0  0  0  0  0  1  0  0  0  0  0  0  0  0  \n",
      "8: 0  0  0  0  0  0  0  0  0  0  0  0  0  0  0  0  0  1  0  0  0  0  \n",
      "9: 0  0  0  0  0  0  0  0  0  0  0  0  0  0  0  0  0  0  0  0  1  0  \n",
      "10: 0  0  0  0  0  0  0  0  0  0  0  0  0  0  0  0  0  0  0  0  0  1  \n",
      "11: 0  0  0  0  0  0  0  0  0  0  0  0  0  0  0  0  0  0  0  0  0  0  \n",
      "12: 0  0  0  0  0  0  0  0  0  0  0  0  0  0  0  0  0  0  0  0  0  0  \n",
      "13: 0  0  0  0  0  0  0  0  0  0  0  0  0  0  0  0  0  0  0  0  0  1  \n",
      "14: 0  0  0  0  0  0  0  0  0  0  0  0  0  0  0  0  0  0  0  0  0  0  \n",
      "15: 0  0  0  0  0  0  0  0  0  0  0  0  0  0  0  0  0  0  0  0  0  0  \n",
      "16: 0  0  0  0  0  0  0  0  0  0  0  0  0  0  0  0  0  0  0  0  0  0  \n",
      "17: 0  0  0  0  0  0  0  0  0  0  0  0  0  0  0  0  0  0  0  0  0  1  \n",
      "18: 0  0  0  0  0  0  0  0  0  0  0  0  0  0  0  0  0  0  0  0  0  0  \n",
      "19: 0  0  0  0  0  0  0  0  0  0  0  0  0  0  0  0  0  0  0  0  0  0  \n",
      "20: 0  0  0  0  0  0  0  0  0  0  0  0  0  0  0  0  0  0  0  0  0  1  \n"
     ]
    }
   ],
   "source": [
    "print('Total flights assigned to gates:'  + str(int(m.ObjVal)))\n",
    "#print('Number of flights assigned to Apron: ' + str(int(M - m.ObjVal)))\n",
    "\n",
    "print()\n",
    "print(\"   \", end = '')\n",
    "for i in range(M+2):\n",
    "    print(str(i), end = '  ')\n",
    "print()\n",
    "for i in range(M+1):\n",
    "    print(str(i)+': ',end='')\n",
    "    for j in range(M+2):\n",
    "        print(int(m.getVars()[i*(M+2)+j].x), end = '  ')\n",
    "    print()"
   ]
  },
  {
   "cell_type": "code",
   "execution_count": null,
   "id": "f8eb0f9e",
   "metadata": {},
   "outputs": [],
   "source": []
  },
  {
   "cell_type": "code",
   "execution_count": null,
   "id": "9e05646f",
   "metadata": {},
   "outputs": [],
   "source": []
  }
 ],
 "metadata": {
  "kernelspec": {
   "display_name": "Python 3 (ipykernel)",
   "language": "python",
   "name": "python3"
  },
  "language_info": {
   "codemirror_mode": {
    "name": "ipython",
    "version": 3
   },
   "file_extension": ".py",
   "mimetype": "text/x-python",
   "name": "python",
   "nbconvert_exporter": "python",
   "pygments_lexer": "ipython3",
   "version": "3.9.12"
  }
 },
 "nbformat": 4,
 "nbformat_minor": 5
}
